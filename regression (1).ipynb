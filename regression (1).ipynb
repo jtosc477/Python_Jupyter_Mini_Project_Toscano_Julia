{
  "nbformat": 4,
  "nbformat_minor": 0,
  "metadata": {
    "colab": {
      "name": "regression.ipynb",
      "provenance": []
    },
    "kernelspec": {
      "name": "python3",
      "display_name": "Python 3"
    },
    "language_info": {
      "name": "python"
    }
  },
  "cells": [
    {
      "cell_type": "markdown",
      "source": [
        "Upload the acidmax.csv file to collab!"
      ],
      "metadata": {
        "id": "jaht2fkpSsNl"
      }
    },
    {
      "cell_type": "code",
      "source": [
        "import numpy as np\n",
        "import pandas as pd\n",
        "import matplotlib.pyplot as plt\n",
        "\n",
        "data = pd.read_csv('acidmax.csv')\n",
        "x = data['pKa']\n",
        "y = data['HF']\n",
        "\n",
        "N = np.size(x)\n",
        "xmean = np.mean(x)\n",
        "ymean = np.mean(y)\n",
        "slopenum = np.sum((x-xmean)*(y-ymean))\n",
        "slopeden = np.sum((x-xmean)**2)\n",
        "slope = slopenum/slopeden\n",
        "intercept = ymean-(slope*xmean)\n",
        "Rnum = (np.sum((x-xmean)*(y-ymean)))\n",
        "Rden = (np.sqrt((np.sum((x-xmean)**2))*(np.sum((y-ymean)**2))))\n",
        "R = Rnum/Rden\n",
        "Rsquared = R**2\n",
        "y2 = intercept + slope*x\n",
        "print('y =',intercept,'+',slope,'x')\n",
        "print('R =', R)\n",
        "print('R squared =', Rsquared)\n",
        "\n",
        "plt.plot(x,y, 'o', color='black')\n",
        "plt.plot(x,y2)"
      ],
      "metadata": {
        "colab": {
          "base_uri": "https://localhost:8080/",
          "height": 334
        },
        "id": "iA6IAdzTvaVa",
        "outputId": "0d459a72-55e6-4f43-ad76-4f658d98d2ae"
      },
      "execution_count": 4,
      "outputs": [
        {
          "output_type": "stream",
          "name": "stdout",
          "text": [
            "y = 364.82561653047185 + -16.90244878774184 x\n",
            "R = -0.9770951199302546\n",
            "R squared = 0.9547148733915185\n"
          ]
        },
        {
          "output_type": "execute_result",
          "data": {
            "text/plain": [
              "[<matplotlib.lines.Line2D at 0x7f63df697950>]"
            ]
          },
          "metadata": {},
          "execution_count": 4
        },
        {
          "output_type": "display_data",
          "data": {
            "image/png": "[encoded data removed]",
            "text/plain": [
              "<Figure size 432x288 with 1 Axes>"
            ]
          },
          "metadata": {
            "needs_background": "light"
          }
        }
      ]
    }
  ]
}